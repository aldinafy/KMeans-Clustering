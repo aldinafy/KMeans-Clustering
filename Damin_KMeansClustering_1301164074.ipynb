{
  "nbformat": 4,
  "nbformat_minor": 0,
  "metadata": {
    "colab": {
      "name": "Damin_KMeansClustering_1301164074.ipynb",
      "provenance": [],
      "collapsed_sections": []
    },
    "kernelspec": {
      "name": "python3",
      "display_name": "Python 3"
    }
  },
  "cells": [
    {
      "cell_type": "markdown",
      "metadata": {
        "id": "LaJORnkpr4k1",
        "colab_type": "text"
      },
      "source": [
        "**KMeans Clustering**"
      ]
    },
    {
      "cell_type": "code",
      "metadata": {
        "id": "9nOu7y8whtYh",
        "colab_type": "code",
        "colab": {}
      },
      "source": [
        "#masukan library\n",
        "import numpy as np\n",
        "import matplotlib.pyplot as plt\n",
        "from sklearn.datasets import make_blobs"
      ],
      "execution_count": 0,
      "outputs": []
    },
    {
      "cell_type": "code",
      "metadata": {
        "id": "gXqE1IodiSwl",
        "colab_type": "code",
        "colab": {}
      },
      "source": [
        "#mengeluarkan dataset\n",
        "dataset = make_blobs(n_samples=300, \n",
        "                     centers=4, \n",
        "                     n_features=2, \n",
        "                     cluster_std=1.6, \n",
        "                     random_state=50) "
      ],
      "execution_count": 0,
      "outputs": []
    },
    {
      "cell_type": "code",
      "metadata": {
        "id": "CaqmJ68HjjSJ",
        "colab_type": "code",
        "colab": {}
      },
      "source": [
        "points = dataset[0]"
      ],
      "execution_count": 0,
      "outputs": []
    },
    {
      "cell_type": "code",
      "metadata": {
        "id": "Q7p8E7j3kh-X",
        "colab_type": "code",
        "colab": {}
      },
      "source": [
        "#masukan kmeans\n",
        "from sklearn.cluster import KMeans"
      ],
      "execution_count": 0,
      "outputs": []
    },
    {
      "cell_type": "code",
      "metadata": {
        "id": "miz4rCW1lDc1",
        "colab_type": "code",
        "colab": {}
      },
      "source": [
        "#membuat objek Kmeas\n",
        "kmeans = KMeans(n_clusters=4)"
      ],
      "execution_count": 0,
      "outputs": []
    },
    {
      "cell_type": "code",
      "metadata": {
        "id": "WcjTEScglqZ0",
        "colab_type": "code",
        "colab": {}
      },
      "source": [
        "#menyesuaikan objek kmeans dengan dataset\n",
        "kmeans.fit(points)"
      ],
      "execution_count": 0,
      "outputs": []
    },
    {
      "cell_type": "code",
      "metadata": {
        "id": "ZQGlti08lyxB",
        "colab_type": "code",
        "colab": {
          "base_uri": "https://localhost:8080/",
          "height": 282
        },
        "outputId": "a143d759-a974-4e97-b4ec-93d7bbc95251"
      },
      "source": [
        "plt.scatter(dataset[0][:,0], dataset[0][:,1])"
      ],
      "execution_count": 70,
      "outputs": [
        {
          "output_type": "execute_result",
          "data": {
            "text/plain": [
              "<matplotlib.collections.PathCollection at 0x7f5fe2e4d8d0>"
            ]
          },
          "metadata": {
            "tags": []
          },
          "execution_count": 70
        },
        {
          "output_type": "display_data",
          "data": {
            "image/png": "[encoded data removed]",
            "text/plain": [
              "<Figure size 432x288 with 1 Axes>"
            ]
          },
          "metadata": {
            "tags": []
          }
        }
      ]
    },
    {
      "cell_type": "code",
      "metadata": {
        "id": "ULLOswccmtxJ",
        "colab_type": "code",
        "colab": {}
      },
      "source": [
        "clusters = kmeans.cluster_centers_"
      ],
      "execution_count": 0,
      "outputs": []
    },
    {
      "cell_type": "code",
      "metadata": {
        "id": "AJr3gVFem8UX",
        "colab_type": "code",
        "colab": {
          "base_uri": "https://localhost:8080/",
          "height": 87
        },
        "outputId": "93838db8-2987-46d8-d53e-b5aea293ffd1"
      },
      "source": [
        "#menampilkan cluster\n",
        "print(clusters)"
      ],
      "execution_count": 72,
      "outputs": [
        {
          "output_type": "stream",
          "text": [
            "[[-2.30714745  7.69677873]\n",
            " [-5.01596947 -1.85165241]\n",
            " [ 5.56386893 -4.17935429]\n",
            " [-0.03540064 -5.50269898]]\n"
          ],
          "name": "stdout"
        }
      ]
    },
    {
      "cell_type": "code",
      "metadata": {
        "id": "u1PrEY3bnN9P",
        "colab_type": "code",
        "colab": {}
      },
      "source": [
        "y_km = kmeans.fit_predict(points)"
      ],
      "execution_count": 0,
      "outputs": []
    },
    {
      "cell_type": "code",
      "metadata": {
        "id": "ASiph5DWnbdO",
        "colab_type": "code",
        "colab": {
          "base_uri": "https://localhost:8080/",
          "height": 264
        },
        "outputId": "ef18afc2-8fa2-496e-8cd4-69e551f7008e"
      },
      "source": [
        "plt.scatter(points[y_km == 0,0], points[y_km == 0,1], s=50, color = 'red')\n",
        "plt.scatter(points[y_km == 1,0], points[y_km == 1,1], s=50, color = 'yellow')\n",
        "plt.scatter(points[y_km == 2,0], points[y_km == 2,1], s=50, color = 'gray')\n",
        "plt.scatter(points[y_km == 3,0], points[y_km == 3,1], s=50, color = 'green')\n",
        "\n",
        "plt.scatter(clusters[0][0], clusters[0][1], marker = '*', s = 220, color = 'black')\n",
        "plt.scatter(clusters[1][0], clusters[1][1], marker = '*', s = 220, color = 'black')\n",
        "plt.scatter(clusters[2][0], clusters[2][1], marker = '*', s = 220, color = 'black')\n",
        "plt.scatter(clusters[3][0], clusters[3][1], marker = '*', s = 220, color = 'black')\n",
        "\n",
        "plt.show()"
      ],
      "execution_count": 76,
      "outputs": [
        {
          "output_type": "display_data",
          "data": {
            "image/png": "[encoded data removed]",
            "text/plain": [
              "<Figure size 432x288 with 1 Axes>"
            ]
          },
          "metadata": {
            "tags": []
          }
        }
      ]
    },
    {
      "cell_type": "code",
      "metadata": {
        "id": "-Tmfp_lOnbI_",
        "colab_type": "code",
        "colab": {}
      },
      "source": [
        ""
      ],
      "execution_count": 0,
      "outputs": []
    },
    {
      "cell_type": "code",
      "metadata": {
        "id": "_luef-Tbna7V",
        "colab_type": "code",
        "colab": {}
      },
      "source": [
        ""
      ],
      "execution_count": 0,
      "outputs": []
    }
  ]
}